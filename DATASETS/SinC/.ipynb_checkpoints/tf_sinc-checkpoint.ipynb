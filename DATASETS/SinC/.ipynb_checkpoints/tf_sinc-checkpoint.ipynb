{
 "cells": [
  {
   "cell_type": "code",
   "execution_count": 15,
   "metadata": {},
   "outputs": [],
   "source": [
    "import numpy as np\n",
    "def sinC(x):\n",
    "    if 0.0 in x:\n",
    "        raise ('Fucked!')\n",
    "    return np.sin(x)/x"
   ]
  },
  {
   "cell_type": "code",
   "execution_count": 20,
   "metadata": {},
   "outputs": [],
   "source": [
    "tr_size, te_size = 500, 200\n",
    "x_train = np.zeros((tr_size,1))\n",
    "x_test  = np.zeros((te_size,1))"
   ]
  },
  {
   "cell_type": "code",
   "execution_count": 21,
   "metadata": {},
   "outputs": [],
   "source": [
    "k = 0\n",
    "for i in range(tr_size*4):\n",
    "    x = 10*np.random.rand()-5\n",
    "    if x not in x_train: \n",
    "        x_train[k,0] = x\n",
    "        k += 1\n",
    "    if k == tr_size:\n",
    "        break"
   ]
  },
  {
   "cell_type": "code",
   "execution_count": 22,
   "metadata": {},
   "outputs": [],
   "source": [
    "k = 0\n",
    "for i in range(te_size*4):\n",
    "    x = 10*np.random.rand()-5\n",
    "    if x not in x_train and x not in x_test: \n",
    "        x_test[k,0] = x\n",
    "        k += 1\n",
    "    if k == te_size:\n",
    "        break"
   ]
  },
  {
   "cell_type": "code",
   "execution_count": 23,
   "metadata": {},
   "outputs": [
    {
     "data": {
      "text/plain": [
       "((500, 1), (200, 1))"
      ]
     },
     "execution_count": 23,
     "metadata": {},
     "output_type": "execute_result"
    }
   ],
   "source": [
    "x_train.shape, x_test.shape"
   ]
  },
  {
   "cell_type": "code",
   "execution_count": 24,
   "metadata": {},
   "outputs": [],
   "source": [
    "t_train = sinC(x_train)"
   ]
  },
  {
   "cell_type": "code",
   "execution_count": 25,
   "metadata": {},
   "outputs": [],
   "source": [
    "t_test = sinC(x_test)"
   ]
  },
  {
   "cell_type": "code",
   "execution_count": 26,
   "metadata": {},
   "outputs": [
    {
     "data": {
      "text/plain": [
       "((500, 1), (200, 1))"
      ]
     },
     "execution_count": 26,
     "metadata": {},
     "output_type": "execute_result"
    }
   ],
   "source": [
    "t_train.shape, t_test.shape"
   ]
  },
  {
   "cell_type": "code",
   "execution_count": 28,
   "metadata": {},
   "outputs": [],
   "source": [
    "from random import sample\n",
    "idx = sample(range(tr_size), 200)"
   ]
  },
  {
   "cell_type": "code",
   "execution_count": 31,
   "metadata": {},
   "outputs": [],
   "source": [
    "for i in idx:\n",
    "    x_train[i] += 1.0*np.random.rand()-0.5"
   ]
  },
  {
   "cell_type": "code",
   "execution_count": 35,
   "metadata": {},
   "outputs": [
    {
     "data": {
      "text/plain": [
       "(700, 1)"
      ]
     },
     "execution_count": 35,
     "metadata": {},
     "output_type": "execute_result"
    }
   ],
   "source": [
    "data = np.vstack((x_train,x_test))\n",
    "data.shape"
   ]
  },
  {
   "cell_type": "code",
   "execution_count": 36,
   "metadata": {},
   "outputs": [],
   "source": [
    "def standardize(X, ymin=0, ymax=1):\n",
    "    for i in range(len(X)):\n",
    "        X[i] = (X[i,:] - X[i,:].min()) / (X[i,:].max() - X[i,:].min())\n",
    "        X[i] = (ymax - ymin)*X[i,:] + ymin \n",
    "    return X"
   ]
  },
  {
   "cell_type": "code",
   "execution_count": 37,
   "metadata": {},
   "outputs": [
    {
     "name": "stdout",
     "output_type": "stream",
     "text": [
      "(700, 1) 1.0 0.0\n"
     ]
    }
   ],
   "source": [
    "data = standardize(data.T).T\n",
    "print(data.shape, data.max(), data.min())"
   ]
  },
  {
   "cell_type": "code",
   "execution_count": 38,
   "metadata": {},
   "outputs": [],
   "source": [
    "x_train = data[:tr_size]\n",
    "x_test  = data[tr_size:]"
   ]
  },
  {
   "cell_type": "code",
   "execution_count": 40,
   "metadata": {},
   "outputs": [
    {
     "name": "stderr",
     "output_type": "stream",
     "text": [
      "/usr/local/lib/python3.6/dist-packages/h5py/__init__.py:36: FutureWarning: Conversion of the second argument of issubdtype from `float` to `np.floating` is deprecated. In future, it will be treated as `np.float64 == np.dtype(float).type`.\n",
      "  from ._conv import register_converters as _register_converters\n"
     ]
    }
   ],
   "source": [
    "import tensorflow as tf"
   ]
  },
  {
   "cell_type": "code",
   "execution_count": 55,
   "metadata": {},
   "outputs": [],
   "source": [
    "# vamos criar a rede neural\n",
    "def hidden_output(x, w, b):\n",
    "    return tf.matmul(x,w) + b\n",
    "#placeholders\n",
    "tf_x = tf.placeholder(tf.float32, shape=[None, 1])\n",
    "tf_t = tf.placeholder(tf.float32, shape=[None,])\n",
    "\n",
    "#variaveis\n",
    "h1_nodes = 20\n",
    "w1 = tf.Variable(tf.random_uniform(shape=[1, h1_nodes]), dtype=tf.float32) #pesos da primeira cada\n",
    "b1 = tf.Variable(tf.random_uniform(shape=[h1_nodes]), dtype=tf.float32) #bias da primeira camada\n",
    "w2 = tf.Variable(tf.random_uniform(shape=[h1_nodes,1]), dtype=tf.float32) #pesos da segunda camada\n",
    "b2 = tf.Variable(tf.random_uniform(shape=[1]), dtype=tf.float32) #bias da segunda camada\n",
    "\n",
    "#operacoes realizadas pela rede\n",
    "h1  = tf.sigmoid(hidden_output(tf_x, w1, b1))\n",
    "out = tf.reshape(tf.sigmoid(hidden_output(h1, w2, b2)), [-1,])\n",
    "\n",
    "# Vamos definir a funcao a ser reduzida\n",
    "loss_function = tf.losses.mean_squared_error(tf_t, out)\n",
    "\n",
    "# Vamos definir o optimizador\n",
    "# optimizer = tf.train.GradientDescentOptimizer(learning_rate=0.0001)\n",
    "optimizer = tf.train.AdamOptimizer()\n",
    "train_op = optimizer.minimize(loss_function)"
   ]
  },
  {
   "cell_type": "code",
   "execution_count": 56,
   "metadata": {},
   "outputs": [],
   "source": [
    "batch_size, max_iterations, trials = 2, 1000, 50\n",
    "train_acc = []\n",
    "test_acc  = []"
   ]
  },
  {
   "cell_type": "code",
   "execution_count": 57,
   "metadata": {},
   "outputs": [
    {
     "name": "stdout",
     "output_type": "stream",
     "text": [
      "Trial 0\n",
      "Trial 1\n",
      "Trial 2\n",
      "Trial 3\n",
      "Trial 4\n",
      "Trial 5\n",
      "Trial 6\n",
      "Trial 7\n",
      "Trial 8\n",
      "Trial 9\n",
      "Trial 10\n",
      "Trial 11\n",
      "Trial 12\n",
      "Trial 13\n",
      "Trial 14\n",
      "Trial 15\n",
      "Trial 16\n",
      "Trial 17\n",
      "Trial 18\n",
      "Trial 19\n",
      "Trial 20\n",
      "Trial 21\n",
      "Trial 22\n",
      "Trial 23\n",
      "Trial 24\n",
      "Trial 25\n",
      "Trial 26\n",
      "Trial 27\n",
      "Trial 28\n",
      "Trial 29\n",
      "Trial 30\n",
      "Trial 31\n",
      "Trial 32\n",
      "Trial 33\n",
      "Trial 34\n",
      "Trial 35\n",
      "Trial 36\n",
      "Trial 37\n",
      "Trial 38\n",
      "Trial 39\n",
      "Trial 40\n",
      "Trial 41\n",
      "Trial 42\n",
      "Trial 43\n",
      "Trial 44\n",
      "Trial 45\n",
      "Trial 46\n",
      "Trial 47\n",
      "Trial 48\n",
      "Trial 49\n",
      "Fim\n"
     ]
    }
   ],
   "source": [
    "with tf.Session() as sess:\n",
    "    for i in range(trials):\n",
    "        print('Trial {}'.format(i))\n",
    "        sess.run(tf.global_variables_initializer())\n",
    "        r = 0\n",
    "        for itr in range(max_iterations):\n",
    "            r = (r + batch_size) % len(x_train)\n",
    "            sess.run(train_op, feed_dict={tf_x:x_train[r:r+batch_size], tf_t:t_train[r:r+batch_size,0]})\n",
    "        train_acc.append(loss_function.eval({tf_x:x_train[:], tf_t:t_train[:,0]}))\n",
    "        test_acc.append(loss_function.eval({tf_x:x_test[:], tf_t:t_test[:,0]}))\n",
    "    print('Fim')"
   ]
  },
  {
   "cell_type": "code",
   "execution_count": 58,
   "metadata": {},
   "outputs": [],
   "source": [
    "ac_tr = sum(train_acc)/len(train_acc)\n",
    "ac_te = sum(test_acc)/len(test_acc)"
   ]
  },
  {
   "cell_type": "code",
   "execution_count": 59,
   "metadata": {},
   "outputs": [
    {
     "data": {
      "text/plain": [
       "(0.3844285795092583, 0.37890881597995757)"
      ]
     },
     "execution_count": 59,
     "metadata": {},
     "output_type": "execute_result"
    }
   ],
   "source": [
    "ac_tr, ac_te"
   ]
  },
  {
   "cell_type": "code",
   "execution_count": null,
   "metadata": {},
   "outputs": [],
   "source": []
  }
 ],
 "metadata": {
  "kernelspec": {
   "display_name": "Python 3",
   "language": "python",
   "name": "python3"
  },
  "language_info": {
   "codemirror_mode": {
    "name": "ipython",
    "version": 3
   },
   "file_extension": ".py",
   "mimetype": "text/x-python",
   "name": "python",
   "nbconvert_exporter": "python",
   "pygments_lexer": "ipython3",
   "version": "3.6.3"
  }
 },
 "nbformat": 4,
 "nbformat_minor": 2
}
